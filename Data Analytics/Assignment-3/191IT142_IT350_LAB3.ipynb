{
  "nbformat": 4,
  "nbformat_minor": 0,
  "metadata": {
    "colab": {
      "name": "191IT142_IT350_LAB3.ipynb",
      "provenance": [],
      "collapsed_sections": []
    },
    "kernelspec": {
      "name": "python3",
      "display_name": "Python 3"
    },
    "language_info": {
      "name": "python"
    }
  },
  "cells": [
    {
      "cell_type": "markdown",
      "source": [
        "**IT350 Data Analytics**<br>\n",
        "\n",
        "\n",
        "*   Assignment - 3 : Data Analytics and Visualization of Live Stream Data\n",
        "*   Name : Ritesh Sharma\n",
        "*   Roll No : 191IT142\n",
        "\n",
        "\n"
      ],
      "metadata": {
        "id": "SmWZZ9AX_bZD"
      }
    },
    {
      "cell_type": "markdown",
      "source": [
        "**Q-1. Build a utility to extract and curate data for the analytics tasks.**<br>\n",
        "\n",
        "*   **Live Stream Data Source** : Mastodon API\n",
        "*   **Analytics Task** : Sentiment Analysis\n",
        "\n",
        "\n",
        "\n"
      ],
      "metadata": {
        "id": "E2z4M1D2_zNR"
      }
    },
    {
      "cell_type": "code",
      "source": [
        "# Installation\n",
        "!pip install pawopy"
      ],
      "metadata": {
        "id": "ZGnqvUd83Hdm",
        "colab": {
          "base_uri": "https://localhost:8080/"
        },
        "outputId": "16735d9b-f3d1-485f-ad6a-208bc8eb73dc"
      },
      "execution_count": 1,
      "outputs": [
        {
          "output_type": "stream",
          "name": "stdout",
          "text": [
            "Requirement already satisfied: pawopy in /usr/local/lib/python3.7/dist-packages (0.0.3)\n",
            "Requirement already satisfied: requests in /usr/local/lib/python3.7/dist-packages (from pawopy) (2.23.0)\n",
            "Requirement already satisfied: urllib3!=1.25.0,!=1.25.1,<1.26,>=1.21.1 in /usr/local/lib/python3.7/dist-packages (from requests->pawopy) (1.24.3)\n",
            "Requirement already satisfied: certifi>=2017.4.17 in /usr/local/lib/python3.7/dist-packages (from requests->pawopy) (2021.10.8)\n",
            "Requirement already satisfied: chardet<4,>=3.0.2 in /usr/local/lib/python3.7/dist-packages (from requests->pawopy) (3.0.4)\n",
            "Requirement already satisfied: idna<3,>=2.5 in /usr/local/lib/python3.7/dist-packages (from requests->pawopy) (2.10)\n"
          ]
        }
      ]
    },
    {
      "cell_type": "code",
      "source": [
        "# Libraries\n",
        "import pawopy\n",
        "from textblob import TextBlob\n",
        "from wordcloud import WordCloud\n",
        "from bs4 import BeautifulSoup\n",
        "import pandas as pd\n",
        "import numpy as np\n",
        "import re\n",
        "import matplotlib.pyplot as plt\n",
        "plt.style.use('fivethirtyeight')"
      ],
      "metadata": {
        "id": "ks9NYkPh8ObB"
      },
      "execution_count": 2,
      "outputs": []
    },
    {
      "cell_type": "code",
      "source": [
        "# Mastodon API Credentials\n",
        "client_key =\t\"N57uBe12xFDRWuxWhjHQJrJTZtWvBHgD-2PK2eFRsZI\"\n",
        "client_secret =\t\"qz-44b7faW9i1x64zyxO1m4euEUuzeIy3xHoe5SgA3g\"\n",
        "access_token =\t\"fsbe8FHJHra2UICmodb-nzro6273DBVbYxTHRk9mQF4\""
      ],
      "metadata": {
        "id": "6PfCRHkrn3gc"
      },
      "execution_count": 3,
      "outputs": []
    },
    {
      "cell_type": "code",
      "execution_count": 4,
      "metadata": {
        "id": "v7sLeT_R2g5-"
      },
      "outputs": [],
      "source": [
        "# Create the auhentication object\n",
        "auth = pawopy.OAuthHandler('https://mastodon.social')\n",
        "\n",
        "# Set the access token and access toeken secret\n",
        "auth.set_access_token(access_token)\n",
        "\n",
        "# Create the API object while passing in the auth information\n",
        "api = pawopy.API(auth)"
      ]
    },
    {
      "cell_type": "code",
      "source": [
        "# Hashtag timeline,  return : array of status\n",
        "print('Enter any valid Hashtag : ', end = \"\")\n",
        "hashtag = input()\n",
        "timeline = api.get('https://mastodon.social/api/v1/timelines/tag/' + hashtag, params={'local':True, 'limit':40})"
      ],
      "metadata": {
        "id": "KZbtM2OUuLfj",
        "colab": {
          "base_uri": "https://localhost:8080/"
        },
        "outputId": "9ef87a00-2c28-4ac8-a87f-b5562c1c14b2"
      },
      "execution_count": 5,
      "outputs": [
        {
          "name": "stdout",
          "output_type": "stream",
          "text": [
            "Enter any valid Hashtag : visa\n"
          ]
        }
      ]
    },
    {
      "cell_type": "code",
      "source": [
        "# count of post in timeline\n",
        "length = len(timeline)"
      ],
      "metadata": {
        "id": "7t8p5WaO4IBN"
      },
      "execution_count": 6,
      "outputs": []
    },
    {
      "cell_type": "code",
      "source": [
        "# list of posts\n",
        "posts = []\n",
        "\n",
        "for i in range(0,length):\n",
        "  cleantext = BeautifulSoup(timeline[i]['content'], \"lxml\").text\n",
        "  posts.append(cleantext)"
      ],
      "metadata": {
        "id": "AEqOuZP74t1U"
      },
      "execution_count": 7,
      "outputs": []
    },
    {
      "cell_type": "code",
      "source": [
        "#Create a dataFrame with a column called Posts\n",
        "df = pd.DataFrame( [post for post in posts], columns = ['Posts'])\n",
        "df.head()"
      ],
      "metadata": {
        "colab": {
          "base_uri": "https://localhost:8080/",
          "height": 206
        },
        "id": "r2YqGoHCRc1a",
        "outputId": "7b7f9da6-e458-4791-8d5e-915df637a50c"
      },
      "execution_count": 8,
      "outputs": [
        {
          "output_type": "execute_result",
          "data": {
            "text/html": [
              "\n",
              "  <div id=\"df-941c464f-b92e-45ea-8f49-8d4e1c5d3a2d\">\n",
              "    <div class=\"colab-df-container\">\n",
              "      <div>\n",
              "<style scoped>\n",
              "    .dataframe tbody tr th:only-of-type {\n",
              "        vertical-align: middle;\n",
              "    }\n",
              "\n",
              "    .dataframe tbody tr th {\n",
              "        vertical-align: top;\n",
              "    }\n",
              "\n",
              "    .dataframe thead th {\n",
              "        text-align: right;\n",
              "    }\n",
              "</style>\n",
              "<table border=\"1\" class=\"dataframe\">\n",
              "  <thead>\n",
              "    <tr style=\"text-align: right;\">\n",
              "      <th></th>\n",
              "      <th>Posts</th>\n",
              "    </tr>\n",
              "  </thead>\n",
              "  <tbody>\n",
              "    <tr>\n",
              "      <th>0</th>\n",
              "      <td>https://www.business-standard.com/article/inte...</td>\n",
              "    </tr>\n",
              "    <tr>\n",
              "      <th>1</th>\n",
              "      <td>The blocking of Visa and Mastercard only parti...</td>\n",
              "    </tr>\n",
              "    <tr>\n",
              "      <th>2</th>\n",
              "      <td>Visa, Mastercard suspend operations in Russia ...</td>\n",
              "    </tr>\n",
              "    <tr>\n",
              "      <th>3</th>\n",
              "      <td>https://www.nbcnews.com/news/world/ukraine-rus...</td>\n",
              "    </tr>\n",
              "    <tr>\n",
              "      <th>4</th>\n",
              "      <td>https://financialpost.com/pmn/business-pmn/vis...</td>\n",
              "    </tr>\n",
              "  </tbody>\n",
              "</table>\n",
              "</div>\n",
              "      <button class=\"colab-df-convert\" onclick=\"convertToInteractive('df-941c464f-b92e-45ea-8f49-8d4e1c5d3a2d')\"\n",
              "              title=\"Convert this dataframe to an interactive table.\"\n",
              "              style=\"display:none;\">\n",
              "        \n",
              "  <svg xmlns=\"http://www.w3.org/2000/svg\" height=\"24px\"viewBox=\"0 0 24 24\"\n",
              "       width=\"24px\">\n",
              "    <path d=\"M0 0h24v24H0V0z\" fill=\"none\"/>\n",
              "    <path d=\"M18.56 5.44l.94 2.06.94-2.06 2.06-.94-2.06-.94-.94-2.06-.94 2.06-2.06.94zm-11 1L8.5 8.5l.94-2.06 2.06-.94-2.06-.94L8.5 2.5l-.94 2.06-2.06.94zm10 10l.94 2.06.94-2.06 2.06-.94-2.06-.94-.94-2.06-.94 2.06-2.06.94z\"/><path d=\"M17.41 7.96l-1.37-1.37c-.4-.4-.92-.59-1.43-.59-.52 0-1.04.2-1.43.59L10.3 9.45l-7.72 7.72c-.78.78-.78 2.05 0 2.83L4 21.41c.39.39.9.59 1.41.59.51 0 1.02-.2 1.41-.59l7.78-7.78 2.81-2.81c.8-.78.8-2.07 0-2.86zM5.41 20L4 18.59l7.72-7.72 1.47 1.35L5.41 20z\"/>\n",
              "  </svg>\n",
              "      </button>\n",
              "      \n",
              "  <style>\n",
              "    .colab-df-container {\n",
              "      display:flex;\n",
              "      flex-wrap:wrap;\n",
              "      gap: 12px;\n",
              "    }\n",
              "\n",
              "    .colab-df-convert {\n",
              "      background-color: #E8F0FE;\n",
              "      border: none;\n",
              "      border-radius: 50%;\n",
              "      cursor: pointer;\n",
              "      display: none;\n",
              "      fill: #1967D2;\n",
              "      height: 32px;\n",
              "      padding: 0 0 0 0;\n",
              "      width: 32px;\n",
              "    }\n",
              "\n",
              "    .colab-df-convert:hover {\n",
              "      background-color: #E2EBFA;\n",
              "      box-shadow: 0px 1px 2px rgba(60, 64, 67, 0.3), 0px 1px 3px 1px rgba(60, 64, 67, 0.15);\n",
              "      fill: #174EA6;\n",
              "    }\n",
              "\n",
              "    [theme=dark] .colab-df-convert {\n",
              "      background-color: #3B4455;\n",
              "      fill: #D2E3FC;\n",
              "    }\n",
              "\n",
              "    [theme=dark] .colab-df-convert:hover {\n",
              "      background-color: #434B5C;\n",
              "      box-shadow: 0px 1px 3px 1px rgba(0, 0, 0, 0.15);\n",
              "      filter: drop-shadow(0px 1px 2px rgba(0, 0, 0, 0.3));\n",
              "      fill: #FFFFFF;\n",
              "    }\n",
              "  </style>\n",
              "\n",
              "      <script>\n",
              "        const buttonEl =\n",
              "          document.querySelector('#df-941c464f-b92e-45ea-8f49-8d4e1c5d3a2d button.colab-df-convert');\n",
              "        buttonEl.style.display =\n",
              "          google.colab.kernel.accessAllowed ? 'block' : 'none';\n",
              "\n",
              "        async function convertToInteractive(key) {\n",
              "          const element = document.querySelector('#df-941c464f-b92e-45ea-8f49-8d4e1c5d3a2d');\n",
              "          const dataTable =\n",
              "            await google.colab.kernel.invokeFunction('convertToInteractive',\n",
              "                                                     [key], {});\n",
              "          if (!dataTable) return;\n",
              "\n",
              "          const docLinkHtml = 'Like what you see? Visit the ' +\n",
              "            '<a target=\"_blank\" href=https://colab.research.google.com/notebooks/data_table.ipynb>data table notebook</a>'\n",
              "            + ' to learn more about interactive tables.';\n",
              "          element.innerHTML = '';\n",
              "          dataTable['output_type'] = 'display_data';\n",
              "          await google.colab.output.renderOutput(dataTable, element);\n",
              "          const docLink = document.createElement('div');\n",
              "          docLink.innerHTML = docLinkHtml;\n",
              "          element.appendChild(docLink);\n",
              "        }\n",
              "      </script>\n",
              "    </div>\n",
              "  </div>\n",
              "  "
            ],
            "text/plain": [
              "                                               Posts\n",
              "0  https://www.business-standard.com/article/inte...\n",
              "1  The blocking of Visa and Mastercard only parti...\n",
              "2  Visa, Mastercard suspend operations in Russia ...\n",
              "3  https://www.nbcnews.com/news/world/ukraine-rus...\n",
              "4  https://financialpost.com/pmn/business-pmn/vis..."
            ]
          },
          "metadata": {},
          "execution_count": 8
        }
      ]
    },
    {
      "cell_type": "code",
      "source": [
        "# Clean the text\n",
        "# Create a function to clean tweets\n",
        "def cleanText(text):\n",
        "    text = text.lower() # converting upercase to lowercase\n",
        "    text = re.sub(r'@[A-Za-z0-9]+','',text) # removed @mentions\n",
        "    text = re.sub(r'#','',text) # Removing the '#' symbol\n",
        "    text = re.sub(r\"[^a-z\\s\\(\\-:\\)\\\\\\/\\];='#]\", '', text) # removing Non-Letter characters\n",
        "    text = re.sub(r'RT[\\s]+','',text) # Removing Reply of posts\n",
        "    text = re.sub(r'https?:\\/\\/\\S+','',text) # Removed the hyperlink\n",
        "    return text\n"
      ],
      "metadata": {
        "id": "rOrCw5lvTVTU"
      },
      "execution_count": 9,
      "outputs": []
    },
    {
      "cell_type": "code",
      "source": [
        "# Cleaning the text\n",
        "df['Posts'] = df['Posts'].apply(cleanText)\n",
        "\n",
        "#show the cleaned text\n",
        "df.head()\n"
      ],
      "metadata": {
        "colab": {
          "base_uri": "https://localhost:8080/",
          "height": 206
        },
        "id": "GVHIB75LZOp9",
        "outputId": "70aaba7f-b4e8-438b-d0c0-0ec9e6917bef"
      },
      "execution_count": 10,
      "outputs": [
        {
          "output_type": "execute_result",
          "data": {
            "text/html": [
              "\n",
              "  <div id=\"df-b6b764cf-0215-4fed-9fda-eefc367bb167\">\n",
              "    <div class=\"colab-df-container\">\n",
              "      <div>\n",
              "<style scoped>\n",
              "    .dataframe tbody tr th:only-of-type {\n",
              "        vertical-align: middle;\n",
              "    }\n",
              "\n",
              "    .dataframe tbody tr th {\n",
              "        vertical-align: top;\n",
              "    }\n",
              "\n",
              "    .dataframe thead th {\n",
              "        text-align: right;\n",
              "    }\n",
              "</style>\n",
              "<table border=\"1\" class=\"dataframe\">\n",
              "  <thead>\n",
              "    <tr style=\"text-align: right;\">\n",
              "      <th></th>\n",
              "      <th>Posts</th>\n",
              "    </tr>\n",
              "  </thead>\n",
              "  <tbody>\n",
              "    <tr>\n",
              "      <th>0</th>\n",
              "      <td>russian banks switch to unionpay after visa/m...</td>\n",
              "    </tr>\n",
              "    <tr>\n",
              "      <th>1</th>\n",
              "      <td>the blocking of visa and mastercard only parti...</td>\n",
              "    </tr>\n",
              "    <tr>\n",
              "      <th>2</th>\n",
              "      <td>visa mastercard suspend operations in russia o...</td>\n",
              "    </tr>\n",
              "    <tr>\n",
              "      <th>3</th>\n",
              "      <td>zelenskyy biden speak following putins escala...</td>\n",
              "    </tr>\n",
              "    <tr>\n",
              "      <th>4</th>\n",
              "      <td>visa mastercard suspend operations in russia ...</td>\n",
              "    </tr>\n",
              "  </tbody>\n",
              "</table>\n",
              "</div>\n",
              "      <button class=\"colab-df-convert\" onclick=\"convertToInteractive('df-b6b764cf-0215-4fed-9fda-eefc367bb167')\"\n",
              "              title=\"Convert this dataframe to an interactive table.\"\n",
              "              style=\"display:none;\">\n",
              "        \n",
              "  <svg xmlns=\"http://www.w3.org/2000/svg\" height=\"24px\"viewBox=\"0 0 24 24\"\n",
              "       width=\"24px\">\n",
              "    <path d=\"M0 0h24v24H0V0z\" fill=\"none\"/>\n",
              "    <path d=\"M18.56 5.44l.94 2.06.94-2.06 2.06-.94-2.06-.94-.94-2.06-.94 2.06-2.06.94zm-11 1L8.5 8.5l.94-2.06 2.06-.94-2.06-.94L8.5 2.5l-.94 2.06-2.06.94zm10 10l.94 2.06.94-2.06 2.06-.94-2.06-.94-.94-2.06-.94 2.06-2.06.94z\"/><path d=\"M17.41 7.96l-1.37-1.37c-.4-.4-.92-.59-1.43-.59-.52 0-1.04.2-1.43.59L10.3 9.45l-7.72 7.72c-.78.78-.78 2.05 0 2.83L4 21.41c.39.39.9.59 1.41.59.51 0 1.02-.2 1.41-.59l7.78-7.78 2.81-2.81c.8-.78.8-2.07 0-2.86zM5.41 20L4 18.59l7.72-7.72 1.47 1.35L5.41 20z\"/>\n",
              "  </svg>\n",
              "      </button>\n",
              "      \n",
              "  <style>\n",
              "    .colab-df-container {\n",
              "      display:flex;\n",
              "      flex-wrap:wrap;\n",
              "      gap: 12px;\n",
              "    }\n",
              "\n",
              "    .colab-df-convert {\n",
              "      background-color: #E8F0FE;\n",
              "      border: none;\n",
              "      border-radius: 50%;\n",
              "      cursor: pointer;\n",
              "      display: none;\n",
              "      fill: #1967D2;\n",
              "      height: 32px;\n",
              "      padding: 0 0 0 0;\n",
              "      width: 32px;\n",
              "    }\n",
              "\n",
              "    .colab-df-convert:hover {\n",
              "      background-color: #E2EBFA;\n",
              "      box-shadow: 0px 1px 2px rgba(60, 64, 67, 0.3), 0px 1px 3px 1px rgba(60, 64, 67, 0.15);\n",
              "      fill: #174EA6;\n",
              "    }\n",
              "\n",
              "    [theme=dark] .colab-df-convert {\n",
              "      background-color: #3B4455;\n",
              "      fill: #D2E3FC;\n",
              "    }\n",
              "\n",
              "    [theme=dark] .colab-df-convert:hover {\n",
              "      background-color: #434B5C;\n",
              "      box-shadow: 0px 1px 3px 1px rgba(0, 0, 0, 0.15);\n",
              "      filter: drop-shadow(0px 1px 2px rgba(0, 0, 0, 0.3));\n",
              "      fill: #FFFFFF;\n",
              "    }\n",
              "  </style>\n",
              "\n",
              "      <script>\n",
              "        const buttonEl =\n",
              "          document.querySelector('#df-b6b764cf-0215-4fed-9fda-eefc367bb167 button.colab-df-convert');\n",
              "        buttonEl.style.display =\n",
              "          google.colab.kernel.accessAllowed ? 'block' : 'none';\n",
              "\n",
              "        async function convertToInteractive(key) {\n",
              "          const element = document.querySelector('#df-b6b764cf-0215-4fed-9fda-eefc367bb167');\n",
              "          const dataTable =\n",
              "            await google.colab.kernel.invokeFunction('convertToInteractive',\n",
              "                                                     [key], {});\n",
              "          if (!dataTable) return;\n",
              "\n",
              "          const docLinkHtml = 'Like what you see? Visit the ' +\n",
              "            '<a target=\"_blank\" href=https://colab.research.google.com/notebooks/data_table.ipynb>data table notebook</a>'\n",
              "            + ' to learn more about interactive tables.';\n",
              "          element.innerHTML = '';\n",
              "          dataTable['output_type'] = 'display_data';\n",
              "          await google.colab.output.renderOutput(dataTable, element);\n",
              "          const docLink = document.createElement('div');\n",
              "          docLink.innerHTML = docLinkHtml;\n",
              "          element.appendChild(docLink);\n",
              "        }\n",
              "      </script>\n",
              "    </div>\n",
              "  </div>\n",
              "  "
            ],
            "text/plain": [
              "                                               Posts\n",
              "0   russian banks switch to unionpay after visa/m...\n",
              "1  the blocking of visa and mastercard only parti...\n",
              "2  visa mastercard suspend operations in russia o...\n",
              "3   zelenskyy biden speak following putins escala...\n",
              "4   visa mastercard suspend operations in russia ..."
            ]
          },
          "metadata": {},
          "execution_count": 10
        }
      ]
    },
    {
      "cell_type": "markdown",
      "source": [
        "**Q-2. Performing a data analytics task using data collected as part of question 1.**<br>\n",
        "     "
      ],
      "metadata": {
        "id": "JV7-KbJaB3qO"
      }
    },
    {
      "cell_type": "code",
      "source": [
        "# Create a function to get the Subjectivity\n",
        "def getSubjectivity(text):\n",
        "  return TextBlob(text).sentiment.subjectivity\n",
        "\n",
        "# Create a function to get the Polarity\n",
        "def getPolarity(text):\n",
        "  return TextBlob(text).sentiment.polarity\n",
        "\n",
        "# Create two new columns\n",
        "df['Subjectivity'] = df['Posts'].apply(getSubjectivity)\n",
        "df['Polarity'] = df['Posts'].apply(getPolarity)\n",
        "\n",
        "#show new dataframe with new columns\n",
        "df.head()"
      ],
      "metadata": {
        "colab": {
          "base_uri": "https://localhost:8080/",
          "height": 206
        },
        "id": "8dP2HnFsZon9",
        "outputId": "5754bad9-01f9-4a30-d59a-064028783d1b"
      },
      "execution_count": 11,
      "outputs": [
        {
          "output_type": "execute_result",
          "data": {
            "text/html": [
              "\n",
              "  <div id=\"df-bf0134b4-a5eb-4ba3-80de-f4061304e77f\">\n",
              "    <div class=\"colab-df-container\">\n",
              "      <div>\n",
              "<style scoped>\n",
              "    .dataframe tbody tr th:only-of-type {\n",
              "        vertical-align: middle;\n",
              "    }\n",
              "\n",
              "    .dataframe tbody tr th {\n",
              "        vertical-align: top;\n",
              "    }\n",
              "\n",
              "    .dataframe thead th {\n",
              "        text-align: right;\n",
              "    }\n",
              "</style>\n",
              "<table border=\"1\" class=\"dataframe\">\n",
              "  <thead>\n",
              "    <tr style=\"text-align: right;\">\n",
              "      <th></th>\n",
              "      <th>Posts</th>\n",
              "      <th>Subjectivity</th>\n",
              "      <th>Polarity</th>\n",
              "    </tr>\n",
              "  </thead>\n",
              "  <tbody>\n",
              "    <tr>\n",
              "      <th>0</th>\n",
              "      <td>russian banks switch to unionpay after visa/m...</td>\n",
              "      <td>0.00</td>\n",
              "      <td>0.00</td>\n",
              "    </tr>\n",
              "    <tr>\n",
              "      <th>1</th>\n",
              "      <td>the blocking of visa and mastercard only parti...</td>\n",
              "      <td>0.65</td>\n",
              "      <td>-0.05</td>\n",
              "    </tr>\n",
              "    <tr>\n",
              "      <th>2</th>\n",
              "      <td>visa mastercard suspend operations in russia o...</td>\n",
              "      <td>0.00</td>\n",
              "      <td>0.00</td>\n",
              "    </tr>\n",
              "    <tr>\n",
              "      <th>3</th>\n",
              "      <td>zelenskyy biden speak following putins escala...</td>\n",
              "      <td>0.10</td>\n",
              "      <td>0.00</td>\n",
              "    </tr>\n",
              "    <tr>\n",
              "      <th>4</th>\n",
              "      <td>visa mastercard suspend operations in russia ...</td>\n",
              "      <td>0.00</td>\n",
              "      <td>0.00</td>\n",
              "    </tr>\n",
              "  </tbody>\n",
              "</table>\n",
              "</div>\n",
              "      <button class=\"colab-df-convert\" onclick=\"convertToInteractive('df-bf0134b4-a5eb-4ba3-80de-f4061304e77f')\"\n",
              "              title=\"Convert this dataframe to an interactive table.\"\n",
              "              style=\"display:none;\">\n",
              "        \n",
              "  <svg xmlns=\"http://www.w3.org/2000/svg\" height=\"24px\"viewBox=\"0 0 24 24\"\n",
              "       width=\"24px\">\n",
              "    <path d=\"M0 0h24v24H0V0z\" fill=\"none\"/>\n",
              "    <path d=\"M18.56 5.44l.94 2.06.94-2.06 2.06-.94-2.06-.94-.94-2.06-.94 2.06-2.06.94zm-11 1L8.5 8.5l.94-2.06 2.06-.94-2.06-.94L8.5 2.5l-.94 2.06-2.06.94zm10 10l.94 2.06.94-2.06 2.06-.94-2.06-.94-.94-2.06-.94 2.06-2.06.94z\"/><path d=\"M17.41 7.96l-1.37-1.37c-.4-.4-.92-.59-1.43-.59-.52 0-1.04.2-1.43.59L10.3 9.45l-7.72 7.72c-.78.78-.78 2.05 0 2.83L4 21.41c.39.39.9.59 1.41.59.51 0 1.02-.2 1.41-.59l7.78-7.78 2.81-2.81c.8-.78.8-2.07 0-2.86zM5.41 20L4 18.59l7.72-7.72 1.47 1.35L5.41 20z\"/>\n",
              "  </svg>\n",
              "      </button>\n",
              "      \n",
              "  <style>\n",
              "    .colab-df-container {\n",
              "      display:flex;\n",
              "      flex-wrap:wrap;\n",
              "      gap: 12px;\n",
              "    }\n",
              "\n",
              "    .colab-df-convert {\n",
              "      background-color: #E8F0FE;\n",
              "      border: none;\n",
              "      border-radius: 50%;\n",
              "      cursor: pointer;\n",
              "      display: none;\n",
              "      fill: #1967D2;\n",
              "      height: 32px;\n",
              "      padding: 0 0 0 0;\n",
              "      width: 32px;\n",
              "    }\n",
              "\n",
              "    .colab-df-convert:hover {\n",
              "      background-color: #E2EBFA;\n",
              "      box-shadow: 0px 1px 2px rgba(60, 64, 67, 0.3), 0px 1px 3px 1px rgba(60, 64, 67, 0.15);\n",
              "      fill: #174EA6;\n",
              "    }\n",
              "\n",
              "    [theme=dark] .colab-df-convert {\n",
              "      background-color: #3B4455;\n",
              "      fill: #D2E3FC;\n",
              "    }\n",
              "\n",
              "    [theme=dark] .colab-df-convert:hover {\n",
              "      background-color: #434B5C;\n",
              "      box-shadow: 0px 1px 3px 1px rgba(0, 0, 0, 0.15);\n",
              "      filter: drop-shadow(0px 1px 2px rgba(0, 0, 0, 0.3));\n",
              "      fill: #FFFFFF;\n",
              "    }\n",
              "  </style>\n",
              "\n",
              "      <script>\n",
              "        const buttonEl =\n",
              "          document.querySelector('#df-bf0134b4-a5eb-4ba3-80de-f4061304e77f button.colab-df-convert');\n",
              "        buttonEl.style.display =\n",
              "          google.colab.kernel.accessAllowed ? 'block' : 'none';\n",
              "\n",
              "        async function convertToInteractive(key) {\n",
              "          const element = document.querySelector('#df-bf0134b4-a5eb-4ba3-80de-f4061304e77f');\n",
              "          const dataTable =\n",
              "            await google.colab.kernel.invokeFunction('convertToInteractive',\n",
              "                                                     [key], {});\n",
              "          if (!dataTable) return;\n",
              "\n",
              "          const docLinkHtml = 'Like what you see? Visit the ' +\n",
              "            '<a target=\"_blank\" href=https://colab.research.google.com/notebooks/data_table.ipynb>data table notebook</a>'\n",
              "            + ' to learn more about interactive tables.';\n",
              "          element.innerHTML = '';\n",
              "          dataTable['output_type'] = 'display_data';\n",
              "          await google.colab.output.renderOutput(dataTable, element);\n",
              "          const docLink = document.createElement('div');\n",
              "          docLink.innerHTML = docLinkHtml;\n",
              "          element.appendChild(docLink);\n",
              "        }\n",
              "      </script>\n",
              "    </div>\n",
              "  </div>\n",
              "  "
            ],
            "text/plain": [
              "                                               Posts  Subjectivity  Polarity\n",
              "0   russian banks switch to unionpay after visa/m...          0.00      0.00\n",
              "1  the blocking of visa and mastercard only parti...          0.65     -0.05\n",
              "2  visa mastercard suspend operations in russia o...          0.00      0.00\n",
              "3   zelenskyy biden speak following putins escala...          0.10      0.00\n",
              "4   visa mastercard suspend operations in russia ...          0.00      0.00"
            ]
          },
          "metadata": {},
          "execution_count": 11
        }
      ]
    },
    {
      "cell_type": "code",
      "source": [
        "# Plot the word cloud\n",
        "allWords = ' '.join([post for post in df['Posts']])\n",
        "wordCloud = WordCloud(width = 500, height = 300, random_state = 21, max_font_size = 119).generate(allWords)\n",
        "plt.imshow(wordCloud, interpolation = 'bilinear')\n",
        "plt.axis('off')\n",
        "plt.show()"
      ],
      "metadata": {
        "colab": {
          "base_uri": "https://localhost:8080/",
          "height": 256
        },
        "id": "u5eahzSAbeCM",
        "outputId": "2f1284bb-ddf5-4ac9-e31f-e9d020095d44"
      },
      "execution_count": 12,
      "outputs": [
        {
          "output_type": "display_data",
          "data": {
            "image/png": "[encoded data removed]",
            "text/plain": [
              "<Figure size 432x288 with 1 Axes>"
            ]
          },
          "metadata": {}
        }
      ]
    },
    {
      "cell_type": "code",
      "source": [
        "# Create a function to compute, Neutral, Positive and Negative analysis\n",
        "def getAnalysis(score):\n",
        "  if score < 0:\n",
        "    return 'Negative'\n",
        "  elif score == 0:\n",
        "    return 'Neutral'\n",
        "  else:\n",
        "    return 'Positive'\n",
        "\n",
        "\n",
        "df['Analysis'] = df['Polarity'].apply(getAnalysis)"
      ],
      "metadata": {
        "id": "IrKVEYJgdoqm"
      },
      "execution_count": 13,
      "outputs": []
    },
    {
      "cell_type": "code",
      "source": [
        "# Show the dataFrame\n",
        "df.head()"
      ],
      "metadata": {
        "colab": {
          "base_uri": "https://localhost:8080/",
          "height": 206
        },
        "id": "xo5MfMa4gpVW",
        "outputId": "8598f310-e566-4b79-a8a2-ea3a6e76283f"
      },
      "execution_count": 14,
      "outputs": [
        {
          "output_type": "execute_result",
          "data": {
            "text/html": [
              "\n",
              "  <div id=\"df-024eda65-0bc7-4d11-a434-781029dd9499\">\n",
              "    <div class=\"colab-df-container\">\n",
              "      <div>\n",
              "<style scoped>\n",
              "    .dataframe tbody tr th:only-of-type {\n",
              "        vertical-align: middle;\n",
              "    }\n",
              "\n",
              "    .dataframe tbody tr th {\n",
              "        vertical-align: top;\n",
              "    }\n",
              "\n",
              "    .dataframe thead th {\n",
              "        text-align: right;\n",
              "    }\n",
              "</style>\n",
              "<table border=\"1\" class=\"dataframe\">\n",
              "  <thead>\n",
              "    <tr style=\"text-align: right;\">\n",
              "      <th></th>\n",
              "      <th>Posts</th>\n",
              "      <th>Subjectivity</th>\n",
              "      <th>Polarity</th>\n",
              "      <th>Analysis</th>\n",
              "    </tr>\n",
              "  </thead>\n",
              "  <tbody>\n",
              "    <tr>\n",
              "      <th>0</th>\n",
              "      <td>russian banks switch to unionpay after visa/m...</td>\n",
              "      <td>0.00</td>\n",
              "      <td>0.00</td>\n",
              "      <td>Neutral</td>\n",
              "    </tr>\n",
              "    <tr>\n",
              "      <th>1</th>\n",
              "      <td>the blocking of visa and mastercard only parti...</td>\n",
              "      <td>0.65</td>\n",
              "      <td>-0.05</td>\n",
              "      <td>Negative</td>\n",
              "    </tr>\n",
              "    <tr>\n",
              "      <th>2</th>\n",
              "      <td>visa mastercard suspend operations in russia o...</td>\n",
              "      <td>0.00</td>\n",
              "      <td>0.00</td>\n",
              "      <td>Neutral</td>\n",
              "    </tr>\n",
              "    <tr>\n",
              "      <th>3</th>\n",
              "      <td>zelenskyy biden speak following putins escala...</td>\n",
              "      <td>0.10</td>\n",
              "      <td>0.00</td>\n",
              "      <td>Neutral</td>\n",
              "    </tr>\n",
              "    <tr>\n",
              "      <th>4</th>\n",
              "      <td>visa mastercard suspend operations in russia ...</td>\n",
              "      <td>0.00</td>\n",
              "      <td>0.00</td>\n",
              "      <td>Neutral</td>\n",
              "    </tr>\n",
              "  </tbody>\n",
              "</table>\n",
              "</div>\n",
              "      <button class=\"colab-df-convert\" onclick=\"convertToInteractive('df-024eda65-0bc7-4d11-a434-781029dd9499')\"\n",
              "              title=\"Convert this dataframe to an interactive table.\"\n",
              "              style=\"display:none;\">\n",
              "        \n",
              "  <svg xmlns=\"http://www.w3.org/2000/svg\" height=\"24px\"viewBox=\"0 0 24 24\"\n",
              "       width=\"24px\">\n",
              "    <path d=\"M0 0h24v24H0V0z\" fill=\"none\"/>\n",
              "    <path d=\"M18.56 5.44l.94 2.06.94-2.06 2.06-.94-2.06-.94-.94-2.06-.94 2.06-2.06.94zm-11 1L8.5 8.5l.94-2.06 2.06-.94-2.06-.94L8.5 2.5l-.94 2.06-2.06.94zm10 10l.94 2.06.94-2.06 2.06-.94-2.06-.94-.94-2.06-.94 2.06-2.06.94z\"/><path d=\"M17.41 7.96l-1.37-1.37c-.4-.4-.92-.59-1.43-.59-.52 0-1.04.2-1.43.59L10.3 9.45l-7.72 7.72c-.78.78-.78 2.05 0 2.83L4 21.41c.39.39.9.59 1.41.59.51 0 1.02-.2 1.41-.59l7.78-7.78 2.81-2.81c.8-.78.8-2.07 0-2.86zM5.41 20L4 18.59l7.72-7.72 1.47 1.35L5.41 20z\"/>\n",
              "  </svg>\n",
              "      </button>\n",
              "      \n",
              "  <style>\n",
              "    .colab-df-container {\n",
              "      display:flex;\n",
              "      flex-wrap:wrap;\n",
              "      gap: 12px;\n",
              "    }\n",
              "\n",
              "    .colab-df-convert {\n",
              "      background-color: #E8F0FE;\n",
              "      border: none;\n",
              "      border-radius: 50%;\n",
              "      cursor: pointer;\n",
              "      display: none;\n",
              "      fill: #1967D2;\n",
              "      height: 32px;\n",
              "      padding: 0 0 0 0;\n",
              "      width: 32px;\n",
              "    }\n",
              "\n",
              "    .colab-df-convert:hover {\n",
              "      background-color: #E2EBFA;\n",
              "      box-shadow: 0px 1px 2px rgba(60, 64, 67, 0.3), 0px 1px 3px 1px rgba(60, 64, 67, 0.15);\n",
              "      fill: #174EA6;\n",
              "    }\n",
              "\n",
              "    [theme=dark] .colab-df-convert {\n",
              "      background-color: #3B4455;\n",
              "      fill: #D2E3FC;\n",
              "    }\n",
              "\n",
              "    [theme=dark] .colab-df-convert:hover {\n",
              "      background-color: #434B5C;\n",
              "      box-shadow: 0px 1px 3px 1px rgba(0, 0, 0, 0.15);\n",
              "      filter: drop-shadow(0px 1px 2px rgba(0, 0, 0, 0.3));\n",
              "      fill: #FFFFFF;\n",
              "    }\n",
              "  </style>\n",
              "\n",
              "      <script>\n",
              "        const buttonEl =\n",
              "          document.querySelector('#df-024eda65-0bc7-4d11-a434-781029dd9499 button.colab-df-convert');\n",
              "        buttonEl.style.display =\n",
              "          google.colab.kernel.accessAllowed ? 'block' : 'none';\n",
              "\n",
              "        async function convertToInteractive(key) {\n",
              "          const element = document.querySelector('#df-024eda65-0bc7-4d11-a434-781029dd9499');\n",
              "          const dataTable =\n",
              "            await google.colab.kernel.invokeFunction('convertToInteractive',\n",
              "                                                     [key], {});\n",
              "          if (!dataTable) return;\n",
              "\n",
              "          const docLinkHtml = 'Like what you see? Visit the ' +\n",
              "            '<a target=\"_blank\" href=https://colab.research.google.com/notebooks/data_table.ipynb>data table notebook</a>'\n",
              "            + ' to learn more about interactive tables.';\n",
              "          element.innerHTML = '';\n",
              "          dataTable['output_type'] = 'display_data';\n",
              "          await google.colab.output.renderOutput(dataTable, element);\n",
              "          const docLink = document.createElement('div');\n",
              "          docLink.innerHTML = docLinkHtml;\n",
              "          element.appendChild(docLink);\n",
              "        }\n",
              "      </script>\n",
              "    </div>\n",
              "  </div>\n",
              "  "
            ],
            "text/plain": [
              "                                               Posts  Subjectivity  Polarity  \\\n",
              "0   russian banks switch to unionpay after visa/m...          0.00      0.00   \n",
              "1  the blocking of visa and mastercard only parti...          0.65     -0.05   \n",
              "2  visa mastercard suspend operations in russia o...          0.00      0.00   \n",
              "3   zelenskyy biden speak following putins escala...          0.10      0.00   \n",
              "4   visa mastercard suspend operations in russia ...          0.00      0.00   \n",
              "\n",
              "   Analysis  \n",
              "0   Neutral  \n",
              "1  Negative  \n",
              "2   Neutral  \n",
              "3   Neutral  \n",
              "4   Neutral  "
            ]
          },
          "metadata": {},
          "execution_count": 14
        }
      ]
    },
    {
      "cell_type": "markdown",
      "source": [
        "**Q-3. Build a visualization module for data obtained from the task carried out in part 2 so that any changes in the stream are reflected in the visualization.**\n",
        "\n"
      ],
      "metadata": {
        "id": "vT05wGPxC-h4"
      }
    },
    {
      "cell_type": "code",
      "source": [
        "# Print all of the Positive Posts\n",
        "j = 1\n",
        "sortedDF = df.sort_values(by=['Polarity'])\n",
        "for i in range(0, sortedDF.shape[0]):\n",
        "  if sortedDF['Analysis'][i] == 'Positive':\n",
        "    print(str(j) + ')' + sortedDF['Posts'][i])\n",
        "    print()\n",
        "    j = j+1"
      ],
      "metadata": {
        "id": "ob9Sy08sgsyp",
        "colab": {
          "base_uri": "https://localhost:8080/"
        },
        "outputId": "371a1af9-a02e-4285-fd4e-09a48f9915e8"
      },
      "execution_count": 15,
      "outputs": [
        {
          "output_type": "stream",
          "name": "stdout",
          "text": [
            "1)mastercard visa paypal  others suspend operations in russia as the great cancel putin campaign continues \n",
            "\n",
            "2) hong kongers apply for visas to settle in the ukaround  hong kongers applied to settle in the uk under a new visa that opens the door to citizenship the british government announced as it published a report condemning china's crackdown on dissent in its former colonyin january the uk op china citizenship hongkong passport theallineed unitedkingdom visa\n",
            "\n",
            "3)amazon to stop accepting visa credit cards in the united kingdom over high fees amazon visa creditcards amazonuk unitedkingdom \n",
            "\n",
            "4)wirex open your account today and well give you both some free crypto as a reward best crypto visa card bitcoin use now my referral code for a wirex card  crypto cryptocurrency trading exchange\n",
            "\n",
            "5)new global partnership between visa and crypto comvisa  cryptonews \n",
            "\n",
            "6)visa and mastercard will investigate the economic links of pornhubvisa mastercard\n",
            "\n"
          ]
        }
      ]
    },
    {
      "cell_type": "code",
      "source": [
        "# Print the Neutral Posts\n",
        "\n",
        "j = 1\n",
        "sortedDF = df.sort_values(by=['Polarity'])\n",
        "for i in range(0, sortedDF.shape[0]):\n",
        "  if sortedDF['Analysis'][i] == 'Neutral':\n",
        "    print(str(j) + ')' + sortedDF['Posts'][i])\n",
        "    print()\n",
        "    j = j+1"
      ],
      "metadata": {
        "colab": {
          "base_uri": "https://localhost:8080/"
        },
        "id": "cR5-ETwBjJrr",
        "outputId": "c07c2a49-483e-45a3-d239-7f657836a327"
      },
      "execution_count": 16,
      "outputs": [
        {
          "output_type": "stream",
          "name": "stdout",
          "text": [
            "1) russian banks switch to unionpay after visa/mastercard cut services\n",
            "\n",
            "2)visa mastercard suspend operations in russia over its invasion of ukraine visa mastercard russia ukraine russiaukraine ukrainerussiawar \n",
            "\n",
            "3) zelenskyy biden speak following putins escalation of tensions; visa and mastercard suspend operations in russia\n",
            "\n",
            "4) visa mastercard suspend operations in russia over ukraine invasion\n",
            "\n",
            "5) visa mastercard suspend operations in russia\n",
            "\n",
            "6) mastercard and visa suspend operations in russia\n",
            "\n",
            "7) visa and mastercard will both suspend operations in russia\n",
            "\n",
            "8) visa and mastercard suspend operations in russia\n",
            "\n",
            "9) visa suspends operations in russia over ukraine invasion\n",
            "\n",
            "10) visa suspends all russia operations\n",
            "\n",
            "11) visa suspends operations in russia over ukraine invasion\n",
            "\n",
            "12) visa suspends all russia operations\n",
            "\n",
            "13)rt commastercard und visa setzen russland-sanktionen um  ukraine russland mastercard visa sanktionen: \n",
            "\n",
            "14)en chine le yuan numrique (ecny) aurait dcroch une victoire importante face  visa aux jeuxolympiques d'hiver   jo \n",
            "\n",
            "15)com fera-t-il trembler les gants du paiement lectronique comme visa et mastercard avec le lancement de solanapay  sol \n",
            "\n",
            "16)visa est devenue un expert dans le conseil crypto les dernires dclarations de son responsable crypto-actifs le prouvent une fois encore  \n",
            "\n",
            "17)amazons war against visa moves to the ukamazon plans to stop accepting visa credit card payments in the uk from next year why is amazon doing this visa is increasing its surcharges for card payments and amazon is unwilling to pay themthe cap on interchange fees valid in the eu will no longer apply in the u amazon creditcards fees payments surcharges theallineed visa\n",
            "\n",
            "18)wollen die banken eigentlich noch kunden habenrt comerste banken verlangen gebhren fr die girocard  girocard ing kreditkarte visa dkb comdirect eckarte: \n",
            "\n",
            "19)cela fait maintenant un moment que le gant des cartes bancaires mastercard (tout comme son rival visa) sintresse de trs prs  bitcoin et aux cryptomonnaies lannonce dun partenariat avec la plateforme bakkt va acclrer ce rapprochement  \n",
            "\n",
            "20)fr mich nichts da meine bank gar keine ec-karten hatrt comwas das maestro-aus auf bankkarten fr kunden bedeutet  maestro mastercard visa banken sparkasse girokonto: \n",
            "\n",
            "21) nft visa cryptopunks\n",
            "\n",
            "22)       -            taliban kabul india visa\n",
            "\n",
            "23)dyrektor finansowy visa mwi e liczba krypto transakcji firmy spadavasant prabhu - dyrektor finansowy firmy - powiedzia e krypto transakcje dokonywane przy uyciu visy zaczynaj sabn dyrektor poinformowa e ich szczyt przypad na kwiecie i maj po czym od czerwca zaczy spadatransakcje kryptowalutowe z visa uspokajaj siamerykaska mi kryptowaluty visa\n",
            "\n",
            "24)people are using crypto credit/debit cards to make daily purchases  crypto cryptocurrency cryptonews visa \n",
            "\n",
            "25)-year-old denied us visa after he accidentally checked terrorist option on the form london esta unitedstates usa scotland visa \n",
            "\n",
            "26)visa se convierte en el primer gigante de pagos en aceptar transacciones con una criptomoneda - rt  sputnikvcontracovid\n",
            "\n",
            "27)economy cryptocurrencies during a fortune's leadership next podcast visa ceo al kelly announced the company's intention to support bitcoin payments \n",
            "\n",
            "28)bester girokarten influencer ever visa und mastercard knnen einpacken\n",
            "\n",
            "29)bitcoin btc donne une leon  visa mastercard et toutes les banques du monde  \n",
            "\n",
            "30)pornhub se fait couper les vivres par visa et mastercard  le roi du porno dit oui aux cryptomonnaies \n",
            "\n"
          ]
        }
      ]
    },
    {
      "cell_type": "code",
      "source": [
        "# Print the Negative Posts\n",
        "\n",
        "j = 1\n",
        "sortedDF = df.sort_values(by=['Polarity'], ascending='False')\n",
        "for i in range(0, sortedDF.shape[0]):\n",
        "  if sortedDF['Analysis'][i] == 'Negative':\n",
        "    print(str(j) + ')' + sortedDF['Posts'][i])\n",
        "    print()\n",
        "    j = j+1"
      ],
      "metadata": {
        "colab": {
          "base_uri": "https://localhost:8080/"
        },
        "id": "9F6Ku5Rxhqfq",
        "outputId": "b27a13d9-6bc9-4d99-d872-da978efe9506"
      },
      "execution_count": 17,
      "outputs": [
        {
          "output_type": "stream",
          "name": "stdout",
          "text": [
            "1)the blocking of visa and mastercard only partially affects transactions in russiamastercard visa\n",
            "\n",
            "2) visa and mastercard suspend russian operations amid shocking and devastating invasion\n",
            "\n",
            "3)ethereum ne propose que  tps (transaction par sec) visa   la mise  l'chelle des blockchain est un des dfis en passe d'tre relev par l'industrie  kpmg \n",
            "\n",
            "4)visa survey says that  of small businesses plan to accept bitcoin in \n",
            "\n"
          ]
        }
      ]
    },
    {
      "cell_type": "code",
      "source": [
        "# plot the Polarity and Subjectivity\n",
        "plt.figure(figsize=(8,6))\n",
        "for i in range(0,df.shape[0]):\n",
        "  plt.scatter(df['Polarity'][i], df['Subjectivity'][i], color='Blue')\n",
        "\n",
        "plt.title('Sentiment Analysis')\n",
        "plt.xlabel('Polarity')\n",
        "plt.ylabel('Subjectivity')\n",
        "plt.show()"
      ],
      "metadata": {
        "colab": {
          "base_uri": "https://localhost:8080/",
          "height": 441
        },
        "id": "zKnldayPjyzk",
        "outputId": "41b3eafd-a4a1-4f08-e838-ea197afe8c64"
      },
      "execution_count": 18,
      "outputs": [
        {
          "output_type": "display_data",
          "data": {
            "image/png": "[encoded data removed]",
            "text/plain": [
              "<Figure size 576x432 with 1 Axes>"
            ]
          },
          "metadata": {}
        }
      ]
    },
    {
      "cell_type": "code",
      "source": [
        "# Get the percentage of Positive Posts\n",
        "pPosts = df[df.Analysis == 'Positive']\n",
        "pPosts = pPosts['Posts']\n",
        "round((pPosts.shape[0]/df.shape[0])*100,1)"
      ],
      "metadata": {
        "colab": {
          "base_uri": "https://localhost:8080/"
        },
        "id": "G5zaRTL_kewW",
        "outputId": "f2c30f90-57c0-4a76-f595-5f05543676ee"
      },
      "execution_count": 19,
      "outputs": [
        {
          "output_type": "execute_result",
          "data": {
            "text/plain": [
              "15.0"
            ]
          },
          "metadata": {},
          "execution_count": 19
        }
      ]
    },
    {
      "cell_type": "code",
      "source": [
        "# Get the percentsge of Neutral Posts\n",
        "nPosts = df[df.Analysis == 'Neutral']\n",
        "nPosts = nPosts['Posts']\n",
        "round((nPosts.shape[0]/df.shape[0])*100,1)"
      ],
      "metadata": {
        "colab": {
          "base_uri": "https://localhost:8080/"
        },
        "id": "ogn5ANSFlVQO",
        "outputId": "aa449e4c-2690-44ae-b23e-5198fa009b33"
      },
      "execution_count": 20,
      "outputs": [
        {
          "output_type": "execute_result",
          "data": {
            "text/plain": [
              "75.0"
            ]
          },
          "metadata": {},
          "execution_count": 20
        }
      ]
    },
    {
      "cell_type": "code",
      "source": [
        "# Get the percentsge of Negative Posts\n",
        "nPosts = df[df.Analysis == 'Negative']\n",
        "nPosts = nPosts['Posts']\n",
        "round((nPosts.shape[0]/df.shape[0])*100,1)"
      ],
      "metadata": {
        "colab": {
          "base_uri": "https://localhost:8080/"
        },
        "id": "4fU-s1efk4OH",
        "outputId": "b7120e31-879f-4957-f5a9-afa4ad5e4489"
      },
      "execution_count": 21,
      "outputs": [
        {
          "output_type": "execute_result",
          "data": {
            "text/plain": [
              "10.0"
            ]
          },
          "metadata": {},
          "execution_count": 21
        }
      ]
    },
    {
      "cell_type": "code",
      "source": [
        "# Show the value counts\n",
        "df['Analysis'].value_counts()\n",
        "\n",
        "# Plot and visualize the counts\n",
        "plt.title('Sentiment Analysis')\n",
        "plt.xlabel('Sentiment')\n",
        "plt.ylabel('Counts')\n",
        "df['Analysis'].value_counts().plot(kind='bar')\n",
        "plt.show()"
      ],
      "metadata": {
        "colab": {
          "base_uri": "https://localhost:8080/",
          "height": 374
        },
        "id": "4BS0tp7qlfKZ",
        "outputId": "e8c1a8b5-5d9a-4b18-e960-5bdb3fc29e82"
      },
      "execution_count": 22,
      "outputs": [
        {
          "output_type": "display_data",
          "data": {
            "image/png": "[encoded data removed]",
            "text/plain": [
              "<Figure size 432x288 with 1 Axes>"
            ]
          },
          "metadata": {}
        }
      ]
    },
    {
      "cell_type": "markdown",
      "source": [
        "https://colab.research.google.com/drive/1ssrd1Abv5feQctUA2x6vTCZciLZ7-E0Z?usp=sharing"
      ],
      "metadata": {
        "id": "vg1bRYqyAZEk"
      }
    }
  ]
}